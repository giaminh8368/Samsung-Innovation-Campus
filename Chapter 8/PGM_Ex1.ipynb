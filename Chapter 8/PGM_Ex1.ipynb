{
  "cells": [
    {
      "cell_type": "markdown",
      "metadata": {
        "colab_type": "text",
        "id": "view-in-github"
      },
      "source": [
        "<a href=\"https://colab.research.google.com/github/CallmeQuita/SIC/blob/main/Chapter%208/Ex1.ipynb\" target=\"_parent\"><img src=\"https://colab.research.google.com/assets/colab-badge.svg\" alt=\"Open In Colab\"/></a>"
      ]
    },
    {
      "cell_type": "markdown",
      "metadata": {
        "id": "MHsoRj38wtp4"
      },
      "source": [
        "# Một số hàm xử lý trên Tensor"
      ]
    },
    {
      "cell_type": "code",
      "execution_count": null,
      "metadata": {
        "id": "60Yd7H-KxJQ2"
      },
      "outputs": [],
      "source": [
        "import tensorflow as tf"
      ]
    },
    {
      "cell_type": "code",
      "execution_count": null,
      "metadata": {
        "colab": {
          "base_uri": "https://localhost:8080/"
        },
        "id": "k_XjAsyBwqRo",
        "outputId": "462086f9-2fe6-4f40-c263-3dc6261e8373"
      },
      "outputs": [
        {
          "name": "stdout",
          "output_type": "stream",
          "text": [
            "[0.16513085 0.9014813  0.6309742  0.4345461  0.29193902 0.64250207]\n"
          ]
        },
        {
          "data": {
            "text/plain": [
              "[array([0.16513085, 0.9014813 ], dtype=float32),\n",
              " array([0.6309742, 0.4345461], dtype=float32),\n",
              " array([0.29193902, 0.64250207], dtype=float32)]"
            ]
          },
          "execution_count": 2,
          "metadata": {},
          "output_type": "execute_result"
        }
      ],
      "source": [
        "tf.random.set_seed(1)\n",
        "t = tf.random.uniform((6,))\n",
        "print(t.numpy())\n",
        "t_splits = tf.split(t,3)\n",
        "[item.numpy() for item in t_splits]"
      ]
    },
    {
      "cell_type": "code",
      "execution_count": null,
      "metadata": {
        "colab": {
          "base_uri": "https://localhost:8080/"
        },
        "id": "vu4Pglwpxsmq",
        "outputId": "807262a4-4474-4d0d-9c26-08d257a4e383"
      },
      "outputs": [
        {
          "name": "stdout",
          "output_type": "stream",
          "text": [
            "[1. 1. 1. 0. 0.]\n"
          ]
        }
      ],
      "source": [
        "A = tf.ones((3,))\n",
        "B = tf.zeros((2,))\n",
        "C = tf.concat([A,B],axis=0)\n",
        "print(C.numpy())"
      ]
    },
    {
      "cell_type": "code",
      "execution_count": null,
      "metadata": {
        "colab": {
          "base_uri": "https://localhost:8080/"
        },
        "id": "NxwSV3Xlx1Sr",
        "outputId": "bdeefadf-9569-4ae4-92e0-33e99173efab"
      },
      "outputs": [
        {
          "name": "stdout",
          "output_type": "stream",
          "text": [
            "[[1. 0.]\n",
            " [1. 0.]\n",
            " [1. 0.]]\n"
          ]
        }
      ],
      "source": [
        "A = tf.ones((3,))\n",
        "B = tf.zeros((3,))\n",
        "S = tf.stack([A,B],axis=1)\n",
        "print(S.numpy())"
      ]
    },
    {
      "cell_type": "code",
      "execution_count": null,
      "metadata": {
        "colab": {
          "base_uri": "https://localhost:8080/"
        },
        "id": "kJ8_dsYKyMd1",
        "outputId": "b4341000-026d-48d7-f1f3-f0dca00ed5b7"
      },
      "outputs": [
        {
          "name": "stdout",
          "output_type": "stream",
          "text": [
            "<_TensorSliceDataset element_spec=TensorSpec(shape=(), dtype=tf.float32, name=None)>\n"
          ]
        }
      ],
      "source": [
        "a = [1.2,3.4,7.5,4.1,5.0,1.0]\n",
        "ds = tf.data.Dataset.from_tensor_slices(a)\n",
        "print(ds)"
      ]
    },
    {
      "cell_type": "code",
      "execution_count": null,
      "metadata": {
        "colab": {
          "base_uri": "https://localhost:8080/"
        },
        "id": "sB8kS2AUyaa2",
        "outputId": "05909c68-0e54-45da-db72-037faea63e8f"
      },
      "outputs": [
        {
          "name": "stdout",
          "output_type": "stream",
          "text": [
            "tf.Tensor(1.2, shape=(), dtype=float32)\n",
            "tf.Tensor(3.4, shape=(), dtype=float32)\n",
            "tf.Tensor(7.5, shape=(), dtype=float32)\n",
            "tf.Tensor(4.1, shape=(), dtype=float32)\n",
            "tf.Tensor(5.0, shape=(), dtype=float32)\n",
            "tf.Tensor(1.0, shape=(), dtype=float32)\n"
          ]
        }
      ],
      "source": [
        "for item in ds:\n",
        "  print(item)"
      ]
    },
    {
      "cell_type": "code",
      "execution_count": null,
      "metadata": {
        "colab": {
          "base_uri": "https://localhost:8080/"
        },
        "id": "BnE7rrh4y-uu",
        "outputId": "3a5ab2b3-d69c-4912-9f9f-9cd03a39d4de"
      },
      "outputs": [
        {
          "name": "stdout",
          "output_type": "stream",
          "text": [
            "batch 100: [1.2 3.4 7.5]\n",
            "batch 101: [4.1 5.  1. ]\n"
          ]
        }
      ],
      "source": [
        "ds_batch = ds.batch(3)\n",
        "for i, elem in enumerate(ds_batch,100):\n",
        "  print('batch {}:'.format(i),elem.numpy())"
      ]
    },
    {
      "cell_type": "markdown",
      "metadata": {
        "id": "aICAy3VLzaUf"
      },
      "source": [
        "## Join 2 tensor"
      ]
    },
    {
      "cell_type": "code",
      "execution_count": null,
      "metadata": {
        "colab": {
          "base_uri": "https://localhost:8080/"
        },
        "id": "ObFWMBSgzewy",
        "outputId": "6475a450-ded5-4dbf-8fc0-192054e81700"
      },
      "outputs": [
        {
          "name": "stdout",
          "output_type": "stream",
          "text": [
            "tf.Tensor(\n",
            "[[0.16513085 0.9014813  0.6309742 ]\n",
            " [0.4345461  0.29193902 0.64250207]\n",
            " [0.9757855  0.43509948 0.6601019 ]\n",
            " [0.60489583 0.6366315  0.6144488 ]], shape=(4, 3), dtype=float32)\n",
            "tf.Tensor([0 1 2 3], shape=(4,), dtype=int32)\n"
          ]
        }
      ],
      "source": [
        "tf.random.set_seed(1)\n",
        "t_x = tf.random.uniform([4,3],dtype=tf.float32)\n",
        "t_y = tf.range(4)\n",
        "print(t_x)\n",
        "print(t_y)"
      ]
    },
    {
      "cell_type": "code",
      "execution_count": null,
      "metadata": {
        "colab": {
          "base_uri": "https://localhost:8080/"
        },
        "id": "SWaMIESOzdzw",
        "outputId": "4e769abf-87f0-4435-809c-6a0d2c331e2f"
      },
      "outputs": [
        {
          "name": "stdout",
          "output_type": "stream",
          "text": [
            " x: [0.16513085 0.9014813  0.6309742 ]  y: 0\n",
            " x: [0.4345461  0.29193902 0.64250207]  y: 1\n",
            " x: [0.9757855  0.43509948 0.6601019 ]  y: 2\n",
            " x: [0.60489583 0.6366315  0.6144488 ]  y: 3\n"
          ]
        }
      ],
      "source": [
        "ds_x = tf.data.Dataset.from_tensor_slices(t_x)\n",
        "ds_y = tf.data.Dataset.from_tensor_slices(t_y)\n",
        "ds_joint = tf.data.Dataset.zip((ds_x,ds_y))\n",
        "for item in ds_joint:\n",
        "  print(' x:', item[0].numpy(),\n",
        "        ' y:',item[1].numpy())"
      ]
    },
    {
      "cell_type": "code",
      "execution_count": null,
      "metadata": {
        "colab": {
          "base_uri": "https://localhost:8080/"
        },
        "id": "SSEe65u_0J1p",
        "outputId": "905d0be9-262b-4a8e-bc1c-852addee2e6e"
      },
      "outputs": [
        {
          "name": "stdout",
          "output_type": "stream",
          "text": [
            " x: [-0.6697383   0.80296254  0.26194835]  y: 0\n",
            " x: [-0.13090777 -0.41612196  0.28500414]  y: 1\n",
            " x: [ 0.951571   -0.12980103  0.32020378]  y: 2\n",
            " x: [0.20979166 0.27326298 0.22889757]  y: 3\n"
          ]
        }
      ],
      "source": [
        "ds_trans = ds_joint.map(lambda x,y:(x*2-1.0,y))\n",
        "for item in ds_trans:\n",
        "  print(' x:', item[0].numpy(),\n",
        "        ' y:',item[1].numpy())"
      ]
    },
    {
      "cell_type": "markdown",
      "metadata": {
        "id": "TK6d-fdQ0ycC"
      },
      "source": [
        "## shuffle(), batch(), repeat()"
      ]
    },
    {
      "cell_type": "code",
      "execution_count": null,
      "metadata": {
        "colab": {
          "base_uri": "https://localhost:8080/"
        },
        "id": "5qilPfsM059g",
        "outputId": "004dfecc-03d1-40c7-bb7d-9a36db5ebe78"
      },
      "outputs": [
        {
          "name": "stdout",
          "output_type": "stream",
          "text": [
            " x: [0.9757855  0.43509948 0.6601019 ]  y: 2\n",
            " x: [0.4345461  0.29193902 0.64250207]  y: 1\n",
            " x: [0.16513085 0.9014813  0.6309742 ]  y: 0\n",
            " x: [0.60489583 0.6366315  0.6144488 ]  y: 3\n"
          ]
        }
      ],
      "source": [
        "tf.random.set_seed(1)\n",
        "ds = ds_joint.shuffle(buffer_size=len(t_x))\n",
        "for e in ds:\n",
        "  print(' x:', e[0].numpy(),\n",
        "        ' y:',e[1].numpy())"
      ]
    },
    {
      "cell_type": "code",
      "execution_count": null,
      "metadata": {
        "colab": {
          "base_uri": "https://localhost:8080/"
        },
        "id": "BAKIVoFr1JtG",
        "outputId": "f468e5f2-3a3c-42e9-fc0e-aca21f7ca4f0"
      },
      "outputs": [
        {
          "name": "stdout",
          "output_type": "stream",
          "text": [
            "batch x:\n",
            " [[0.16513085 0.9014813  0.6309742 ]\n",
            " [0.4345461  0.29193902 0.64250207]\n",
            " [0.9757855  0.43509948 0.6601019 ]]\n",
            "batch y:\n",
            " [0 1 2]\n"
          ]
        }
      ],
      "source": [
        "ds = ds_joint.batch(batch_size=3,drop_remainder=False)\n",
        "batch_x,batch_y = next(iter(ds))\n",
        "print('batch x:\\n',batch_x.numpy())\n",
        "print('batch y:\\n',batch_y.numpy())"
      ]
    },
    {
      "cell_type": "code",
      "execution_count": null,
      "metadata": {
        "colab": {
          "base_uri": "https://localhost:8080/"
        },
        "id": "u01G2ywC1TNW",
        "outputId": "bd214aa6-99d5-408c-fd8c-5f8d375eb901"
      },
      "outputs": [
        {
          "name": "stdout",
          "output_type": "stream",
          "text": [
            "0 [[0.16513085 0.9014813  0.6309742 ]\n",
            " [0.4345461  0.29193902 0.64250207]\n",
            " [0.9757855  0.43509948 0.6601019 ]] [0 1 2]\n",
            "1 [[0.60489583 0.6366315  0.6144488 ]] [3]\n",
            "2 [[0.16513085 0.9014813  0.6309742 ]\n",
            " [0.4345461  0.29193902 0.64250207]\n",
            " [0.9757855  0.43509948 0.6601019 ]] [0 1 2]\n",
            "3 [[0.60489583 0.6366315  0.6144488 ]] [3]\n"
          ]
        }
      ],
      "source": [
        "ds = ds_joint.batch(3).repeat(count=2)\n",
        "for i,(batch_x,batch_y) in enumerate(ds):\n",
        "  print(i,batch_x.numpy(),batch_y.numpy())"
      ]
    },
    {
      "cell_type": "code",
      "execution_count": null,
      "metadata": {
        "colab": {
          "base_uri": "https://localhost:8080/"
        },
        "id": "boDzi-x81o-H",
        "outputId": "a87e319d-4546-40cb-e67b-2b446ed3ab02"
      },
      "outputs": [
        {
          "name": "stdout",
          "output_type": "stream",
          "text": [
            "0 [[0.9757855  0.43509948 0.6601019 ]\n",
            " [0.4345461  0.29193902 0.64250207]] [2 1]\n",
            "1 [[0.16513085 0.9014813  0.6309742 ]\n",
            " [0.60489583 0.6366315  0.6144488 ]] [0 3]\n",
            "2 [[0.16513085 0.9014813  0.6309742 ]\n",
            " [0.60489583 0.6366315  0.6144488 ]] [0 3]\n",
            "3 [[0.4345461  0.29193902 0.64250207]\n",
            " [0.9757855  0.43509948 0.6601019 ]] [1 2]\n",
            "4 [[0.60489583 0.6366315  0.6144488 ]\n",
            " [0.16513085 0.9014813  0.6309742 ]] [3 0]\n",
            "5 [[0.4345461  0.29193902 0.64250207]\n",
            " [0.9757855  0.43509948 0.6601019 ]] [1 2]\n",
            "6 [[0.4345461  0.29193902 0.64250207]\n",
            " [0.60489583 0.6366315  0.6144488 ]] [1 3]\n",
            "7 [[0.9757855  0.43509948 0.6601019 ]\n",
            " [0.16513085 0.9014813  0.6309742 ]] [2 0]\n",
            "8 [[0.4345461  0.29193902 0.64250207]\n",
            " [0.9757855  0.43509948 0.6601019 ]] [1 2]\n",
            "9 [[0.60489583 0.6366315  0.6144488 ]\n",
            " [0.16513085 0.9014813  0.6309742 ]] [3 0]\n",
            "10 [[0.60489583 0.6366315  0.6144488 ]\n",
            " [0.16513085 0.9014813  0.6309742 ]] [3 0]\n",
            "11 [[0.9757855  0.43509948 0.6601019 ]\n",
            " [0.4345461  0.29193902 0.64250207]] [2 1]\n",
            "12 [[0.60489583 0.6366315  0.6144488 ]\n",
            " [0.16513085 0.9014813  0.6309742 ]] [3 0]\n",
            "13 [[0.4345461  0.29193902 0.64250207]\n",
            " [0.9757855  0.43509948 0.6601019 ]] [1 2]\n",
            "14 [[0.60489583 0.6366315  0.6144488 ]\n",
            " [0.16513085 0.9014813  0.6309742 ]] [3 0]\n",
            "15 [[0.9757855  0.43509948 0.6601019 ]\n",
            " [0.4345461  0.29193902 0.64250207]] [2 1]\n",
            "16 [[0.9757855  0.43509948 0.6601019 ]\n",
            " [0.60489583 0.6366315  0.6144488 ]] [2 3]\n",
            "17 [[0.16513085 0.9014813  0.6309742 ]\n",
            " [0.4345461  0.29193902 0.64250207]] [0 1]\n",
            "18 [[0.4345461  0.29193902 0.64250207]\n",
            " [0.9757855  0.43509948 0.6601019 ]] [1 2]\n",
            "19 [[0.16513085 0.9014813  0.6309742 ]\n",
            " [0.60489583 0.6366315  0.6144488 ]] [0 3]\n",
            "20 [[0.16513085 0.9014813  0.6309742 ]\n",
            " [0.4345461  0.29193902 0.64250207]] [0 1]\n",
            "21 [[0.9757855  0.43509948 0.6601019 ]\n",
            " [0.60489583 0.6366315  0.6144488 ]] [2 3]\n",
            "22 [[0.60489583 0.6366315  0.6144488 ]\n",
            " [0.9757855  0.43509948 0.6601019 ]] [3 2]\n",
            "23 [[0.16513085 0.9014813  0.6309742 ]\n",
            " [0.4345461  0.29193902 0.64250207]] [0 1]\n",
            "24 [[0.60489583 0.6366315  0.6144488 ]\n",
            " [0.16513085 0.9014813  0.6309742 ]] [3 0]\n",
            "25 [[0.4345461  0.29193902 0.64250207]\n",
            " [0.9757855  0.43509948 0.6601019 ]] [1 2]\n",
            "26 [[0.4345461  0.29193902 0.64250207]\n",
            " [0.60489583 0.6366315  0.6144488 ]] [1 3]\n",
            "27 [[0.9757855  0.43509948 0.6601019 ]\n",
            " [0.16513085 0.9014813  0.6309742 ]] [2 0]\n",
            "28 [[0.9757855  0.43509948 0.6601019 ]\n",
            " [0.4345461  0.29193902 0.64250207]] [2 1]\n",
            "29 [[0.16513085 0.9014813  0.6309742 ]\n",
            " [0.60489583 0.6366315  0.6144488 ]] [0 3]\n",
            "30 [[0.9757855  0.43509948 0.6601019 ]\n",
            " [0.60489583 0.6366315  0.6144488 ]] [2 3]\n",
            "31 [[0.16513085 0.9014813  0.6309742 ]\n",
            " [0.4345461  0.29193902 0.64250207]] [0 1]\n",
            "32 [[0.60489583 0.6366315  0.6144488 ]\n",
            " [0.4345461  0.29193902 0.64250207]] [3 1]\n",
            "33 [[0.9757855  0.43509948 0.6601019 ]\n",
            " [0.16513085 0.9014813  0.6309742 ]] [2 0]\n",
            "34 [[0.60489583 0.6366315  0.6144488 ]\n",
            " [0.9757855  0.43509948 0.6601019 ]] [3 2]\n",
            "35 [[0.4345461  0.29193902 0.64250207]\n",
            " [0.16513085 0.9014813  0.6309742 ]] [1 0]\n",
            "36 [[0.60489583 0.6366315  0.6144488 ]\n",
            " [0.16513085 0.9014813  0.6309742 ]] [3 0]\n",
            "37 [[0.9757855  0.43509948 0.6601019 ]\n",
            " [0.4345461  0.29193902 0.64250207]] [2 1]\n",
            "38 [[0.16513085 0.9014813  0.6309742 ]\n",
            " [0.9757855  0.43509948 0.6601019 ]] [0 2]\n",
            "39 [[0.60489583 0.6366315  0.6144488 ]\n",
            " [0.4345461  0.29193902 0.64250207]] [3 1]\n"
          ]
        }
      ],
      "source": [
        "tf.random.set_seed(1)\n",
        "ds = ds_joint.shuffle(4).batch(2).repeat(20)\n",
        "for i,(batch_x,batch_y) in enumerate(ds):\n",
        "  print(i,batch_x.numpy(),batch_y.numpy())"
      ]
    }
  ],
  "metadata": {
    "colab": {
      "include_colab_link": true,
      "provenance": []
    },
    "kernelspec": {
      "display_name": "Python 3",
      "name": "python3"
    },
    "language_info": {
      "name": "python"
    }
  },
  "nbformat": 4,
  "nbformat_minor": 0
}
